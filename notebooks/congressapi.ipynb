{
 "cells": [
  {
   "cell_type": "code",
   "execution_count": 8,
   "id": "e2f3a3a9",
   "metadata": {},
   "outputs": [],
   "source": [
    "import numpy as np\n",
    "import pandas as pd\n",
    "import requests\n",
    "import json\n",
    "import dotenv\n",
    "import os"
   ]
  },
  {
   "cell_type": "markdown",
   "id": "edcab2c2",
   "metadata": {},
   "source": [
    "## Getting Biographical Data from the Congress API\n",
    "\n",
    "The most important skill is reading the API documentation efficiently.\n",
    "\n",
    "Look ONLY for these five things:\n",
    "\n",
    "1. Root: The beginning part of all URLs associated with this API for getting data back (I often find this in examples first)\n",
    "\n",
    "https://api.congress.gov/v3\n",
    "\n",
    "2. Endpoint: the second part of the URL, generally it points to a specific data set to be returned. \n",
    "\n",
    "/member/{bioguideId}\n",
    "\n",
    "The curly braces mean fill this in for whicver member of congress you want. \n",
    "\n",
    "3. The headers: data that WE give to the API to identify ourselves, and provide other information if requested. \n",
    " * User Agent string: a string that identifies your software. If you are writing a Bot, what is your bots name, and what methods are you using to access this API.\n",
    "\n",
    " The standard convention is:\n",
    "\n",
    " 'botname/version (email) python-requests/request-package-version'"
   ]
  },
  {
   "cell_type": "code",
   "execution_count": 7,
   "id": "6517719b",
   "metadata": {},
   "outputs": [
    {
     "data": {
      "text/plain": [
       "{'User-Agent': 'targ/0.0 (ppj8hm@virginia.edu) python-requests/2.32.5'}"
      ]
     },
     "execution_count": 7,
     "metadata": {},
     "output_type": "execute_result"
    }
   ],
   "source": [
    "import requests\n",
    "\n",
    "botname = 'targ'\n",
    "version = '0.0'\n",
    "email = 'ppj8hm@virginia.edu'\n",
    "\n",
    "useragent = f'{botname}/{version} ({email}) python-requests/{requests.__version__}'\n",
    "headers = {'User-Agent': useragent}\n",
    "headers\n"
   ]
  },
  {
   "cell_type": "markdown",
   "id": "dfa0c011",
   "metadata": {},
   "source": [
    "4. API Parameters: these are ways to control what data is requested. The parameters are generally listed in the documentation for each endpoint. 3 kinds of parameter:\n",
    "\n",
    "* Query parameters: should be listed in a dictionary and passed to the `params` argument of `requests.get()`\n",
    "\n",
    "* Path parameters: are part of the endpoint (such as bioguideId)\n",
    "  \n",
    "* Global parameters: apply to any use of the API regardless of endpoint. Often that includes your API key. Can be in either the headers or the params.\n",
    "\n",
    "5. If an API Key is needed, how to get one, and how will you let the API know the key?\n",
    "\n",
    "API keys should be saved in a .env file in the same folder as your code. Use `dotenv` package to load the key into your code without ever displaying/exposing your key. "
   ]
  },
  {
   "cell_type": "code",
   "execution_count": null,
   "id": "f1555c6d",
   "metadata": {},
   "outputs": [],
   "source": [
    "dotenv.load_dotenv()\n",
    "congresskey = os.getenv('congresskey')"
   ]
  },
  {
   "cell_type": "code",
   "execution_count": 15,
   "id": "0fce7d8d",
   "metadata": {},
   "outputs": [],
   "source": [
    "params = { 'format': 'json',\n",
    "    'api_key': congresskey\n",
    "}\n",
    "\n"
   ]
  },
  {
   "cell_type": "markdown",
   "id": "5c19fa2d",
   "metadata": {},
   "source": [
    "Put it all together:"
   ]
  },
  {
   "cell_type": "code",
   "execution_count": 18,
   "id": "9884a1b3",
   "metadata": {},
   "outputs": [
    {
     "data": {
      "text/plain": [
       "<Response [200]>"
      ]
     },
     "execution_count": 18,
     "metadata": {},
     "output_type": "execute_result"
    }
   ],
   "source": [
    "import requests\n",
    "\n",
    "bioguideID = 'M001239'\n",
    "root = 'https://api.congress.gov/v3'\n",
    "endpoint = f'/member/{bioguideID}'\n",
    "\n",
    "r = requests.get(\n",
    "    root + endpoint,\n",
    "    headers=headers,\n",
    "    params=params)\n",
    "r"
   ]
  },
  {
   "cell_type": "code",
   "execution_count": 19,
   "id": "30cf0018",
   "metadata": {},
   "outputs": [
    {
     "data": {
      "text/plain": [
       "{'member': {'addressInformation': {'city': 'Washington',\n",
       "   'district': 'DC',\n",
       "   'officeAddress': '1013 Longworth House Office Building',\n",
       "   'phoneNumber': '(202) 225-4711',\n",
       "   'zipCode': 20515},\n",
       "  'bioguideId': 'M001239',\n",
       "  'birthYear': '1968',\n",
       "  'cosponsoredLegislation': {'count': 166,\n",
       "   'url': 'https://api.congress.gov/v3/member/M001239/cosponsored-legislation'},\n",
       "  'currentMember': True,\n",
       "  'depiction': {'attribution': 'Image courtesy of the Member',\n",
       "   'imageUrl': 'https://www.congress.gov/img/member/67744ba20b34857ecc909149_200.jpg'},\n",
       "  'directOrderName': 'John J. McGuire III',\n",
       "  'district': 5,\n",
       "  'firstName': 'John',\n",
       "  'honorificName': 'Mr.',\n",
       "  'invertedOrderName': 'McGuire, John J.',\n",
       "  'lastName': 'McGuire',\n",
       "  'middleName': 'J.',\n",
       "  'officialWebsiteUrl': 'https://mcguire.house.gov/',\n",
       "  'partyHistory': [{'partyAbbreviation': 'R',\n",
       "    'partyName': 'Republican',\n",
       "    'startYear': 2025}],\n",
       "  'previousNames': [{'directOrderName': 'John McGuire',\n",
       "    'endDate': '2025-01-10T17:36:18Z',\n",
       "    'firstName': 'John',\n",
       "    'honorificName': 'Mr.',\n",
       "    'invertedOrderName': 'McGuire, John',\n",
       "    'lastName': 'McGuire',\n",
       "    'middleName': 'J.',\n",
       "    'startDate': '2025-01-03T17:00:00Z'},\n",
       "   {'directOrderName': 'John McGuire',\n",
       "    'endDate': '2025-01-17T04:59:59Z',\n",
       "    'firstName': 'John',\n",
       "    'honorificName': 'Mr.',\n",
       "    'invertedOrderName': 'McGuire, John',\n",
       "    'lastName': 'McGuire',\n",
       "    'middleName': 'J.',\n",
       "    'startDate': '2025-01-10T17:36:19Z'},\n",
       "   {'directOrderName': 'John McGuire',\n",
       "    'endDate': '2025-04-28T13:04:26Z',\n",
       "    'firstName': 'John',\n",
       "    'honorificName': 'Mr.',\n",
       "    'invertedOrderName': 'McGuire, John',\n",
       "    'lastName': 'McGuire',\n",
       "    'middleName': 'J.',\n",
       "    'startDate': '2025-01-17T05:00:00Z'},\n",
       "   {'directOrderName': 'John J. McGuire III',\n",
       "    'firstName': 'John',\n",
       "    'honorificName': 'Mr.',\n",
       "    'invertedOrderName': 'McGuire, John J.',\n",
       "    'lastName': 'McGuire',\n",
       "    'middleName': 'J.',\n",
       "    'startDate': '2025-04-28T13:04:27Z'}],\n",
       "  'sponsoredLegislation': {'count': 8,\n",
       "   'url': 'https://api.congress.gov/v3/member/M001239/sponsored-legislation'},\n",
       "  'state': 'Virginia',\n",
       "  'suffixName': 'III',\n",
       "  'terms': [{'chamber': 'House of Representatives',\n",
       "    'congress': 119,\n",
       "    'district': 5,\n",
       "    'memberType': 'Representative',\n",
       "    'startYear': 2025,\n",
       "    'stateCode': 'VA',\n",
       "    'stateName': 'Virginia'}],\n",
       "  'updateDate': '2025-09-24T07:40:20Z'},\n",
       " 'request': {'bioguideId': 'm001239',\n",
       "  'contentType': 'application/json',\n",
       "  'format': 'json'}}"
      ]
     },
     "execution_count": 19,
     "metadata": {},
     "output_type": "execute_result"
    }
   ],
   "source": [
    "r.json()"
   ]
  }
 ],
 "metadata": {
  "kernelspec": {
   "display_name": "ds6600",
   "language": "python",
   "name": "python3"
  },
  "language_info": {
   "codemirror_mode": {
    "name": "ipython",
    "version": 3
   },
   "file_extension": ".py",
   "mimetype": "text/x-python",
   "name": "python",
   "nbconvert_exporter": "python",
   "pygments_lexer": "ipython3",
   "version": "3.13.5"
  }
 },
 "nbformat": 4,
 "nbformat_minor": 5
}
