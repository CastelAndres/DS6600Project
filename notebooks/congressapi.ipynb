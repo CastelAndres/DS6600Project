{
 "cells": [
  {
   "cell_type": "code",
   "execution_count": 87,
   "id": "e2f3a3a9",
   "metadata": {},
   "outputs": [],
   "source": [
    "import numpy as np\n",
    "import pandas as pd\n",
    "import requests\n",
    "import json\n",
    "import dotenv\n",
    "import os"
   ]
  },
  {
   "cell_type": "markdown",
   "id": "edcab2c2",
   "metadata": {},
   "source": [
    "## Getting Biographical Data from the Congress API\n",
    "\n",
    "The most important skill is reading the API documentation efficiently.\n",
    "\n",
    "Look ONLY for these five things:\n",
    "\n",
    "1. Root: The beginning part of all URLs associated with this API for getting data back (I often find this in examples first)\n",
    "\n",
    "https://api.congress.gov/v3\n",
    "\n",
    "2. Endpoint: the second part of the URL, generally it points to a specific data set to be returned. \n",
    "\n",
    "/member/{bioguideId}\n",
    "\n",
    "The curly braces mean fill this in for whicver member of congress you want. \n",
    "\n",
    "3. The headers: data that WE give to the API to identify ourselves, and provide other information if requested. \n",
    " * User Agent string: a string that identifies your software. If you are writing a Bot, what is your bots name, and what methods are you using to access this API.\n",
    "\n",
    " The standard convention is:\n",
    "\n",
    " 'botname/version (email) python-requests/request-package-version'"
   ]
  },
  {
   "cell_type": "code",
   "execution_count": 88,
   "id": "6517719b",
   "metadata": {},
   "outputs": [
    {
     "data": {
      "text/plain": [
       "{'User-Agent': 'targ/0.0 (ppj8hm@virginia.edu) python-requests/2.32.5'}"
      ]
     },
     "execution_count": 88,
     "metadata": {},
     "output_type": "execute_result"
    }
   ],
   "source": [
    "import requests\n",
    "\n",
    "botname = 'targ'\n",
    "version = '0.0'\n",
    "email = 'ppj8hm@virginia.edu'\n",
    "\n",
    "useragent = f'{botname}/{version} ({email}) python-requests/{requests.__version__}'\n",
    "headers = {'User-Agent': useragent}\n",
    "headers\n"
   ]
  },
  {
   "cell_type": "markdown",
   "id": "dfa0c011",
   "metadata": {},
   "source": [
    "4. API Parameters: these are ways to control what data is requested. The parameters are generally listed in the documentation for each endpoint. 3 kinds of parameter:\n",
    "\n",
    "* Query parameters: should be listed in a dictionary and passed to the `params` argument of `requests.get()`\n",
    "\n",
    "* Path parameters: are part of the endpoint (such as bioguideId)\n",
    "  \n",
    "* Global parameters: apply to any use of the API regardless of endpoint. Often that includes your API key. Can be in either the headers or the params.\n",
    "\n",
    "5. If an API Key is needed, how to get one, and how will you let the API know the key?\n",
    "\n",
    "API keys should be saved in a .env file in the same folder as your code. Use `dotenv` package to load the key into your code without ever displaying/exposing your key. "
   ]
  },
  {
   "cell_type": "code",
   "execution_count": 89,
   "id": "f1555c6d",
   "metadata": {},
   "outputs": [],
   "source": [
    "dotenv.load_dotenv()\n",
    "congresskey = os.getenv('congresskey')"
   ]
  },
  {
   "cell_type": "code",
   "execution_count": 90,
   "id": "0fce7d8d",
   "metadata": {},
   "outputs": [],
   "source": [
    "params = { 'format': 'json',\n",
    "    'api_key': congresskey\n",
    "}\n",
    "\n"
   ]
  },
  {
   "cell_type": "markdown",
   "id": "5c19fa2d",
   "metadata": {},
   "source": [
    "Put it all together:"
   ]
  },
  {
   "cell_type": "code",
   "execution_count": 91,
   "id": "9884a1b3",
   "metadata": {},
   "outputs": [
    {
     "data": {
      "text/plain": [
       "<Response [200]>"
      ]
     },
     "execution_count": 91,
     "metadata": {},
     "output_type": "execute_result"
    }
   ],
   "source": [
    "import requests\n",
    "\n",
    "bioguideID = 'M001239'\n",
    "root = 'https://api.congress.gov/v3'\n",
    "endpoint = f'/member/{bioguideID}'\n",
    "\n",
    "r = requests.get(\n",
    "    root + endpoint,\n",
    "    headers=headers,\n",
    "    params=params)\n",
    "r"
   ]
  },
  {
   "cell_type": "code",
   "execution_count": 92,
   "id": "30cf0018",
   "metadata": {},
   "outputs": [
    {
     "data": {
      "text/plain": [
       "{'member': {'addressInformation': {'city': 'Washington',\n",
       "   'district': 'DC',\n",
       "   'officeAddress': '1013 Longworth House Office Building',\n",
       "   'phoneNumber': '(202) 225-4711',\n",
       "   'zipCode': 20515},\n",
       "  'bioguideId': 'M001239',\n",
       "  'birthYear': '1968',\n",
       "  'cosponsoredLegislation': {'count': 168,\n",
       "   'url': 'https://api.congress.gov/v3/member/M001239/cosponsored-legislation'},\n",
       "  'currentMember': True,\n",
       "  'depiction': {'attribution': 'Image courtesy of the Member',\n",
       "   'imageUrl': 'https://www.congress.gov/img/member/67744ba20b34857ecc909149_200.jpg'},\n",
       "  'directOrderName': 'John J. McGuire III',\n",
       "  'district': 5,\n",
       "  'firstName': 'John',\n",
       "  'honorificName': 'Mr.',\n",
       "  'invertedOrderName': 'McGuire, John J.',\n",
       "  'lastName': 'McGuire',\n",
       "  'middleName': 'J.',\n",
       "  'officialWebsiteUrl': 'https://mcguire.house.gov/',\n",
       "  'partyHistory': [{'partyAbbreviation': 'R',\n",
       "    'partyName': 'Republican',\n",
       "    'startYear': 2025}],\n",
       "  'previousNames': [{'directOrderName': 'John McGuire',\n",
       "    'endDate': '2025-01-10T17:36:18Z',\n",
       "    'firstName': 'John',\n",
       "    'honorificName': 'Mr.',\n",
       "    'invertedOrderName': 'McGuire, John',\n",
       "    'lastName': 'McGuire',\n",
       "    'middleName': 'J.',\n",
       "    'startDate': '2025-01-03T17:00:00Z'},\n",
       "   {'directOrderName': 'John McGuire',\n",
       "    'endDate': '2025-01-17T04:59:59Z',\n",
       "    'firstName': 'John',\n",
       "    'honorificName': 'Mr.',\n",
       "    'invertedOrderName': 'McGuire, John',\n",
       "    'lastName': 'McGuire',\n",
       "    'middleName': 'J.',\n",
       "    'startDate': '2025-01-10T17:36:19Z'},\n",
       "   {'directOrderName': 'John McGuire',\n",
       "    'endDate': '2025-04-28T13:04:26Z',\n",
       "    'firstName': 'John',\n",
       "    'honorificName': 'Mr.',\n",
       "    'invertedOrderName': 'McGuire, John',\n",
       "    'lastName': 'McGuire',\n",
       "    'middleName': 'J.',\n",
       "    'startDate': '2025-01-17T05:00:00Z'},\n",
       "   {'directOrderName': 'John J. McGuire III',\n",
       "    'firstName': 'John',\n",
       "    'honorificName': 'Mr.',\n",
       "    'invertedOrderName': 'McGuire, John J.',\n",
       "    'lastName': 'McGuire',\n",
       "    'middleName': 'J.',\n",
       "    'startDate': '2025-04-28T13:04:27Z'}],\n",
       "  'sponsoredLegislation': {'count': 9,\n",
       "   'url': 'https://api.congress.gov/v3/member/M001239/sponsored-legislation'},\n",
       "  'state': 'Virginia',\n",
       "  'suffixName': 'III',\n",
       "  'terms': [{'chamber': 'House of Representatives',\n",
       "    'congress': 119,\n",
       "    'district': 5,\n",
       "    'memberType': 'Representative',\n",
       "    'startYear': 2025,\n",
       "    'stateCode': 'VA',\n",
       "    'stateName': 'Virginia'}],\n",
       "  'updateDate': '2025-09-24T07:40:20Z'},\n",
       " 'request': {'bioguideId': 'm001239',\n",
       "  'contentType': 'application/json',\n",
       "  'format': 'json'}}"
      ]
     },
     "execution_count": 92,
     "metadata": {},
     "output_type": "execute_result"
    }
   ],
   "source": [
    "r.json()"
   ]
  },
  {
   "cell_type": "markdown",
   "id": "2a7c92af",
   "metadata": {},
   "source": [
    "## Sponsored Legislation"
   ]
  },
  {
   "cell_type": "code",
   "execution_count": 93,
   "id": "631bfd0e",
   "metadata": {},
   "outputs": [
    {
     "data": {
      "text/plain": [
       "'/member/M001239/sponsored-legislation'"
      ]
     },
     "execution_count": 93,
     "metadata": {},
     "output_type": "execute_result"
    }
   ],
   "source": [
    "endpoint = f'/member/{bioguideID}/sponsored-legislation'\n",
    "endpoint"
   ]
  },
  {
   "cell_type": "code",
   "execution_count": 94,
   "id": "c95c6cf9",
   "metadata": {},
   "outputs": [],
   "source": [
    "params = { 'format': 'json',\n",
    "          'offset': 0,\n",
    "          'limit': 250,\n",
    "          'api_key': congresskey}"
   ]
  },
  {
   "cell_type": "code",
   "execution_count": 95,
   "id": "02772847",
   "metadata": {},
   "outputs": [
    {
     "data": {
      "text/plain": [
       "<Response [200]>"
      ]
     },
     "execution_count": 95,
     "metadata": {},
     "output_type": "execute_result"
    }
   ],
   "source": [
    "r = requests.get(root + endpoint,\n",
    "                 headers=headers,\n",
    "                 params=params)\n",
    "r"
   ]
  },
  {
   "cell_type": "code",
   "execution_count": 96,
   "id": "62fa0af0",
   "metadata": {},
   "outputs": [],
   "source": [
    "myjson = r.json()"
   ]
  },
  {
   "cell_type": "code",
   "execution_count": 97,
   "id": "2b53d10c",
   "metadata": {},
   "outputs": [],
   "source": [
    "myjson['sponsoredLegislation']\n",
    "\n",
    "sponsoredLegislation_df =  pd.json_normalize(myjson, record_path=['sponsoredLegislation'])"
   ]
  },
  {
   "cell_type": "code",
   "execution_count": 98,
   "id": "c238b2bf",
   "metadata": {},
   "outputs": [
    {
     "name": "stdout",
     "output_type": "stream",
     "text": [
      "To amend the Internal Revenue Code of 1986 to modify the tax on remittance transfers.\n",
      "To change the name of the Department of Defense to the \"Department of War\", and for other purposes.\n",
      "Border Wall Status Act\n",
      "Make the District of Columbia Safe and Beautiful Act\n",
      "FAIR Act\n",
      "VA Data Transparency and Trust Act\n",
      "Manned Aircraft Clarification Act\n",
      "Uranium for Energy Independence Act of 2025\n",
      "Agricultural and Forestry Hauling Efficiency Act\n"
     ]
    }
   ],
   "source": [
    "for x in sponsoredLegislation_df['title']:\n",
    "    print(x)"
   ]
  },
  {
   "cell_type": "code",
   "execution_count": 99,
   "id": "5e743ba5",
   "metadata": {},
   "outputs": [
    {
     "data": {
      "text/plain": [
       "<Response [200]>"
      ]
     },
     "execution_count": 99,
     "metadata": {},
     "output_type": "execute_result"
    }
   ],
   "source": [
    "r = requests.get(sponsoredLegislation_df['url'][3],\n",
    "                    headers=headers,\n",
    "                    params=params)\n",
    "r"
   ]
  },
  {
   "cell_type": "code",
   "execution_count": 100,
   "id": "76c7fc0e",
   "metadata": {},
   "outputs": [
    {
     "data": {
      "text/plain": [
       "{'bill': {'actions': {'count': 6,\n",
       "   'url': 'https://api.congress.gov/v3/bill/119/hr/5103/actions?format=json'},\n",
       "  'committees': {'count': 2,\n",
       "   'url': 'https://api.congress.gov/v3/bill/119/hr/5103/committees?format=json'},\n",
       "  'congress': 119,\n",
       "  'constitutionalAuthorityStatementText': '<pre>\\n[Congressional Record Volume 171, Number 144 (Wednesday, September 3, 2025)]\\n[House]\\nFrom the Congressional Record Online through the Government Publishing Office [<a href=\"https://www.gpo.gov\">www.gpo.gov</a>]\\nBy Mr. McGUIRE:\\nH.R. 5103.\\nCongress has the power to enact this legislation pursuant\\nto the following:\\nArticle I, Section 8\\n[Page H3829]\\n</pre>',\n",
       "  'cosponsors': {'count': 3,\n",
       "   'countIncludingWithdrawnCosponsors': 3,\n",
       "   'url': 'https://api.congress.gov/v3/bill/119/hr/5103/cosponsors?format=json'},\n",
       "  'introducedDate': '2025-09-03',\n",
       "  'latestAction': {'actionDate': '2025-09-10',\n",
       "   'text': 'Ordered to be Reported (Amended) by the Yeas and Nays: 25 - 19.'},\n",
       "  'legislationUrl': 'https://www.congress.gov/bill/119th-congress/house-bill/5103',\n",
       "  'number': '5103',\n",
       "  'originChamber': 'House',\n",
       "  'originChamberCode': 'H',\n",
       "  'policyArea': {'name': 'Public Lands and Natural Resources'},\n",
       "  'sponsors': [{'bioguideId': 'M001239',\n",
       "    'district': 5,\n",
       "    'firstName': 'John',\n",
       "    'fullName': 'Rep. McGuire, John J. [R-VA-5]',\n",
       "    'isByRequest': 'N',\n",
       "    'lastName': 'McGuire',\n",
       "    'middleName': 'J.',\n",
       "    'party': 'R',\n",
       "    'state': 'VA',\n",
       "    'url': 'https://api.congress.gov/v3/member/M001239?format=json'}],\n",
       "  'subjects': {'count': 14,\n",
       "   'url': 'https://api.congress.gov/v3/bill/119/hr/5103/subjects?format=json'},\n",
       "  'summaries': {'count': 1,\n",
       "   'url': 'https://api.congress.gov/v3/bill/119/hr/5103/summaries?format=json'},\n",
       "  'textVersions': {'count': 1,\n",
       "   'url': 'https://api.congress.gov/v3/bill/119/hr/5103/text?format=json'},\n",
       "  'title': 'Make the District of Columbia Safe and Beautiful Act',\n",
       "  'titles': {'count': 3,\n",
       "   'url': 'https://api.congress.gov/v3/bill/119/hr/5103/titles?format=json'},\n",
       "  'type': 'HR',\n",
       "  'updateDate': '2025-09-29T13:58:13Z',\n",
       "  'updateDateIncludingText': '2025-09-29T13:58:13Z'},\n",
       " 'request': {'billNumber': '5103',\n",
       "  'billType': 'hr',\n",
       "  'congress': '119',\n",
       "  'contentType': 'application/json',\n",
       "  'format': 'json'}}"
      ]
     },
     "execution_count": 100,
     "metadata": {},
     "output_type": "execute_result"
    }
   ],
   "source": [
    "r.json()"
   ]
  },
  {
   "cell_type": "markdown",
   "id": "67017981",
   "metadata": {},
   "source": [
    "## FEC Data for financial campagin contributions"
   ]
  },
  {
   "cell_type": "code",
   "execution_count": 101,
   "id": "6d559cd7",
   "metadata": {},
   "outputs": [],
   "source": [
    "dotenv.load_dotenv()\n",
    "feckey = os.getenv('feckey')"
   ]
  },
  {
   "cell_type": "code",
   "execution_count": 102,
   "id": "74501c34",
   "metadata": {},
   "outputs": [
    {
     "data": {
      "text/plain": [
       "<Response [200]>"
      ]
     },
     "execution_count": 102,
     "metadata": {},
     "output_type": "execute_result"
    }
   ],
   "source": [
    "\n",
    "root = 'https://api.open.fec.gov/'\n",
    "endpoint = '/v1/candidates/search/'\n",
    "\n",
    "params = {'api_key': feckey,\n",
    "          'q':'John McGuire',\n",
    "           'state': 'VA',\n",
    "           'district': '5',\n",
    "           'office': 'H'}\n",
    "r = requests.get(root + endpoint,\n",
    "                 headers=headers,\n",
    "                 params=params)\n",
    "r\n"
   ]
  },
  {
   "cell_type": "code",
   "execution_count": 103,
   "id": "062e4998",
   "metadata": {},
   "outputs": [
    {
     "data": {
      "text/plain": [
       "'H0VA07133'"
      ]
     },
     "execution_count": 103,
     "metadata": {},
     "output_type": "execute_result"
    }
   ],
   "source": [
    "myjson = r.json()\n",
    "candidate_id = myjson['results'][0]['candidate_id']\n",
    "candidate_id "
   ]
  },
  {
   "cell_type": "code",
   "execution_count": 104,
   "id": "fd7ac715",
   "metadata": {},
   "outputs": [
    {
     "data": {
      "text/plain": [
       "<Response [200]>"
      ]
     },
     "execution_count": 104,
     "metadata": {},
     "output_type": "execute_result"
    }
   ],
   "source": [
    "endpoint = '/v1/schedules/schedule_a/by_size/by_candidate/'\n",
    "params = { 'api_key': feckey,\n",
    "           'candidate_id': candidate_id,\n",
    "           'cycle' : 2024}\n",
    "\n",
    "r = requests.get(root + endpoint,\n",
    "                 headers=headers,\n",
    "                 params=params)\n",
    "r"
   ]
  },
  {
   "cell_type": "code",
   "execution_count": 105,
   "id": "674491a2",
   "metadata": {},
   "outputs": [
    {
     "data": {
      "text/plain": [
       "{'api_version': '1.0',\n",
       " 'pagination': {'count': 0,\n",
       "  'is_count_exact': True,\n",
       "  'page': 1,\n",
       "  'pages': 0,\n",
       "  'per_page': 20},\n",
       " 'results': []}"
      ]
     },
     "execution_count": 105,
     "metadata": {},
     "output_type": "execute_result"
    }
   ],
   "source": [
    "r.json()"
   ]
  }
 ],
 "metadata": {
  "kernelspec": {
   "display_name": "ds6600",
   "language": "python",
   "name": "python3"
  },
  "language_info": {
   "codemirror_mode": {
    "name": "ipython",
    "version": 3
   },
   "file_extension": ".py",
   "mimetype": "text/x-python",
   "name": "python",
   "nbconvert_exporter": "python",
   "pygments_lexer": "ipython3",
   "version": "3.13.5"
  }
 },
 "nbformat": 4,
 "nbformat_minor": 5
}
