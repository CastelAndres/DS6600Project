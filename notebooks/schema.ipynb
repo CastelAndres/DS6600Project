{
 "cells": [
  {
   "cell_type": "code",
   "execution_count": null,
   "id": "80087888",
   "metadata": {},
   "outputs": [],
   "source": []
  },
  {
   "cell_type": "code",
   "execution_count": null,
   "id": "21af1d3b",
   "metadata": {},
   "outputs": [],
   "source": [
    "contrib.columns"
   ]
  },
  {
   "cell_type": "code",
   "execution_count": null,
   "id": "a550bcf3",
   "metadata": {},
   "outputs": [],
   "source": [
    "contrib('pdf_url').duplicated().value_counts()"
   ]
  },
  {
   "cell_type": "code",
   "execution_count": null,
   "id": "3f18a018",
   "metadata": {},
   "outputs": [],
   "source": [
    "contrib.loc[contrib.duplicated(Keep=False)].sort_values('pdf_url').head(10)['pdf_url']"
   ]
  },
  {
   "cell_type": "code",
   "execution_count": null,
   "id": "7b9608d0",
   "metadata": {},
   "outputs": [],
   "source": [
    "contrib = [('pdf_url')].duplicated().values_counts()"
   ]
  },
  {
   "cell_type": "markdown",
   "id": "d99fb96e",
   "metadata": {},
   "source": [
    "2. Do any of the tables need to become multiple tables, or combined into one table.\n",
    "\n",
    "Should be combined into one table (share the same primary key): bioinfo, fec_ids, ideology."
   ]
  },
  {
   "cell_type": "code",
   "execution_count": 2,
   "id": "bc770a2c",
   "metadata": {},
   "outputs": [
    {
     "ename": "NameError",
     "evalue": "name 'pd' is not defined",
     "output_type": "error",
     "traceback": [
      "\u001b[31m---------------------------------------------------------------------------\u001b[39m",
      "\u001b[31mNameError\u001b[39m                                 Traceback (most recent call last)",
      "\u001b[36mCell\u001b[39m\u001b[36m \u001b[39m\u001b[32mIn[2]\u001b[39m\u001b[32m, line 1\u001b[39m\n\u001b[32m----> \u001b[39m\u001b[32m1\u001b[39m members = \u001b[43mpd\u001b[49m.merge(bioinfo, fec_ids,\n\u001b[32m      2\u001b[39m                    on =\u001b[33m'\u001b[39m\u001b[33mbioguide_id\u001b[39m\u001b[33m'\u001b[39m,\n\u001b[32m      3\u001b[39m                    how = \u001b[33m'\u001b[39m\u001b[33mouter\u001b[39m\u001b[33m'\u001b[39m,\n\u001b[32m      4\u001b[39m                    validate = \u001b[33m'\u001b[39m\u001b[33mone_to_one\u001b[39m\u001b[33m'\u001b[39m,\n\u001b[32m      5\u001b[39m                    inicator = \u001b[33m'\u001b[39m\u001b[33mmatched\u001b[39m\u001b[33m'\u001b[39m)\n",
      "\u001b[31mNameError\u001b[39m: name 'pd' is not defined"
     ]
    }
   ],
   "source": [
    "members = pd.merge(bioinfo, fec_ids,\n",
    "                   on ='bioguide_id',\n",
    "                   how = 'outer',\n",
    "                   validate = 'one_to_one',\n",
    "                   inicator = 'matched')"
   ]
  },
  {
   "cell_type": "code",
   "execution_count": null,
   "id": "bb4f82f7",
   "metadata": {},
   "outputs": [],
   "source": [
    "members['matched'].value_counts()\n",
    "#should be 545 "
   ]
  },
  {
   "cell_type": "code",
   "execution_count": null,
   "id": "f0a82958",
   "metadata": {},
   "outputs": [],
   "source": [
    "members = members.drop('matched', axis=1)"
   ]
  },
  {
   "cell_type": "code",
   "execution_count": null,
   "id": "d25c105a",
   "metadata": {},
   "outputs": [],
   "source": [
    "members = pd.mnerge(members, ideology,\n",
    "                    on ='bioguide_id',\n",
    "                   how = 'outer',\n",
    "                   validate = 'one_to_one',\n",
    "                   inicator = 'matched')"
   ]
  },
  {
   "cell_type": "code",
   "execution_count": null,
   "id": "b6a771ca",
   "metadata": {},
   "outputs": [],
   "source": [
    "members['matched'].value_counts()\n",
    "#should be 545"
   ]
  },
  {
   "cell_type": "code",
   "execution_count": null,
   "id": "663de304",
   "metadata": {},
   "outputs": [],
   "source": [
    "members = members.drop('matched', axis=1)"
   ]
  },
  {
   "cell_type": "code",
   "execution_count": null,
   "id": "90d6bcdd",
   "metadata": {},
   "outputs": [],
   "source": [
    "members.columns"
   ]
  },
  {
   "cell_type": "code",
   "execution_count": null,
   "id": "c323d063",
   "metadata": {},
   "outputs": [],
   "source": [
    "members = members.drop(['Chamber', 'Party', 'District', 'State'], axis=1)\n",
    "members.columns = [c.lower().replace(' ', '_') for c in members.columns]"
   ]
  },
  {
   "cell_type": "code",
   "execution_count": null,
   "id": "b5ee89da",
   "metadata": {},
   "outputs": [],
   "source": [
    "members.head(3).T"
   ]
  },
  {
   "cell_type": "code",
   "execution_count": null,
   "id": "72b57709",
   "metadata": {},
   "outputs": [],
   "source": [
    "members.columns = [c.lower().replace(' ', '_') for c in members.columns]"
   ]
  },
  {
   "cell_type": "code",
   "execution_count": null,
   "id": "5ce3359e",
   "metadata": {},
   "outputs": [],
   "source": [
    "members.head(3).T"
   ]
  },
  {
   "cell_type": "code",
   "execution_count": null,
   "id": "963c4541",
   "metadata": {},
   "outputs": [],
   "source": [
    "members.to_csv('../data/thirdNF/members.csv', index=False)"
   ]
  },
  {
   "cell_type": "code",
   "execution_count": null,
   "id": "9bd67d0f",
   "metadata": {},
   "outputs": [],
   "source": [
    "for c in bill_summaries.columns:\n",
    "    print(c)\n",
    "    d = bill_summaries.groupby(['bill.type', 'bill.number']).agg({c: 'nunique'})\n",
    "    print(np.mean(d[c]) == 1)"
   ]
  },
  {
   "cell_type": "code",
   "execution_count": null,
   "id": "571706a6",
   "metadata": {},
   "outputs": [],
   "source": [
    "bills = bill_summaries[['bill.type', 'bill.number','bill.congress', 'bill.originChamber', \n",
    "                       'bill.originChamberCode', 'bill.title', 'bill.updateDateIncludingText',\n",
    "                       'bill.url']].drop_duplicates()\n",
    "bills.columns = [c.lower().replace(' ', '_') for c in bills.columns]\n",
    "bills.to.csv('../data/thirdNF/bills.csv')"
   ]
  },
  {
   "cell_type": "code",
   "execution_count": null,
   "id": "85facaa5",
   "metadata": {},
   "outputs": [],
   "source": [
    "bill_versions = bill_summaries.drop(['bill.type', 'bill.number','bill.congress', 'bill.originChamber', \n",
    "                       'bill.originChamberode', 'bill.title', 'bill.updateDateIncludingText',\n",
    "                       'bill.url'], axis=1)"
   ]
  },
  {
   "cell_type": "code",
   "execution_count": null,
   "id": "4f589ae5",
   "metadata": {},
   "outputs": [],
   "source": [
    "bill_versions .columns = [c.lower().replace(' ', '_') for c in bill_versions.columns]\n"
   ]
  },
  {
   "cell_type": "code",
   "execution_count": 3,
   "id": "10f32f46",
   "metadata": {},
   "outputs": [
    {
     "ename": "NameError",
     "evalue": "name 'vote_compare' is not defined",
     "output_type": "error",
     "traceback": [
      "\u001b[31m---------------------------------------------------------------------------\u001b[39m",
      "\u001b[31mNameError\u001b[39m                                 Traceback (most recent call last)",
      "\u001b[36mCell\u001b[39m\u001b[36m \u001b[39m\u001b[32mIn[3]\u001b[39m\u001b[32m, line 1\u001b[39m\n\u001b[32m----> \u001b[39m\u001b[32m1\u001b[39m \u001b[43mvote_compare\u001b[49m.head(\u001b[32m3\u001b[39m).T\n",
      "\u001b[31mNameError\u001b[39m: name 'vote_compare' is not defined"
     ]
    }
   ],
   "source": [
    "vote_compare.head(3).T"
   ]
  },
  {
   "cell_type": "code",
   "execution_count": null,
   "id": "76431383",
   "metadata": {},
   "outputs": [],
   "source": [
    "vote_compare.to_csv('../data/thirdNF/vote_compare.csv', index=False)"
   ]
  }
 ],
 "metadata": {
  "kernelspec": {
   "display_name": "ds6600",
   "language": "python",
   "name": "python3"
  },
  "language_info": {
   "codemirror_mode": {
    "name": "ipython",
    "version": 3
   },
   "file_extension": ".py",
   "mimetype": "text/x-python",
   "name": "python",
   "nbconvert_exporter": "python",
   "pygments_lexer": "ipython3",
   "version": "3.13.5"
  }
 },
 "nbformat": 4,
 "nbformat_minor": 5
}
