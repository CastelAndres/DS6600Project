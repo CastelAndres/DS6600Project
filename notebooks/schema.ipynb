{
 "cells": [
  {
   "cell_type": "code",
   "execution_count": 1,
   "id": "80087888",
   "metadata": {},
   "outputs": [],
   "source": [
    "import numpy as np\n",
    "import pandas as pd"
   ]
  },
  {
   "cell_type": "code",
   "execution_count": 2,
   "id": "96b1ec34",
   "metadata": {},
   "outputs": [],
   "source": [
    "bill_summaries = pd.read_csv('../data/bill_summaries.csv')\n",
    "bioinfo = pd.read_csv('../data/bioinfo.csv')\n",
    "fec_ids = pd.read_csv('../data/fec_ids.csv')\n",
    "ideology = pd.read_csv('../data/ideology.csv')\n",
    "sponsored_legislation = pd.read_csv('../data/sponsored_legislation.csv')\n",
    "terms = pd.read_csv('../data/terms.csv')\n",
    "vote_compare = pd.read_csv('../data/vote_compare.csv')\n",
    "contrib = pd.read_csv('../data/contrib.csv')"
   ]
  },
  {
   "cell_type": "markdown",
   "id": "cf28d95f",
   "metadata": {},
   "source": [
    "1. Do each of the CSVs have a primary key? If so, what?"
   ]
  },
  {
   "cell_type": "code",
   "execution_count": 3,
   "id": "05665197",
   "metadata": {},
   "outputs": [
    {
     "data": {
      "text/plain": [
       "Index(['actionDate', 'actionDesc', 'currentChamber', 'currentChamberCode',\n",
       "       'lastSummaryUpdateDate', 'text', 'updateDate', 'versionCode',\n",
       "       'bill.congress', 'bill.number', 'bill.originChamber',\n",
       "       'bill.originChamberCode', 'bill.title', 'bill.type',\n",
       "       'bill.updateDateIncludingText', 'bill.url'],\n",
       "      dtype='object')"
      ]
     },
     "execution_count": 3,
     "metadata": {},
     "output_type": "execute_result"
    }
   ],
   "source": [
    "bill_summaries.columns\n"
   ]
  },
  {
   "cell_type": "code",
   "execution_count": 4,
   "id": "2aa67d7f",
   "metadata": {},
   "outputs": [
    {
     "data": {
      "text/plain": [
       "False    2751\n",
       "Name: count, dtype: int64"
      ]
     },
     "execution_count": 4,
     "metadata": {},
     "output_type": "execute_result"
    }
   ],
   "source": [
    "bill_summaries[['bill.type', 'bill.number', 'versionCode']].duplicated().value_counts()"
   ]
  },
  {
   "cell_type": "code",
   "execution_count": 5,
   "id": "c50fec86",
   "metadata": {},
   "outputs": [
    {
     "data": {
      "text/plain": [
       "Index(['bioguide_id', 'Full name', 'Chamber', 'State', 'Party', 'District',\n",
       "       'birthYear', 'image', 'Office address', 'Phone', 'Website'],\n",
       "      dtype='object')"
      ]
     },
     "execution_count": 5,
     "metadata": {},
     "output_type": "execute_result"
    }
   ],
   "source": [
    "bioinfo.columns"
   ]
  },
  {
   "cell_type": "code",
   "execution_count": 6,
   "id": "0a74ed1c",
   "metadata": {},
   "outputs": [
    {
     "data": {
      "text/plain": [
       "False    545\n",
       "Name: count, dtype: int64"
      ]
     },
     "execution_count": 6,
     "metadata": {},
     "output_type": "execute_result"
    }
   ],
   "source": [
    "bioinfo[['bioguide_id']].duplicated().value_counts()"
   ]
  },
  {
   "cell_type": "code",
   "execution_count": 7,
   "id": "348aeb10",
   "metadata": {},
   "outputs": [
    {
     "data": {
      "text/plain": [
       "Index(['bioguide_id', 'fec_id'], dtype='object')"
      ]
     },
     "execution_count": 7,
     "metadata": {},
     "output_type": "execute_result"
    }
   ],
   "source": [
    "fec_ids.columns"
   ]
  },
  {
   "cell_type": "code",
   "execution_count": 8,
   "id": "cb7e11c5",
   "metadata": {},
   "outputs": [
    {
     "data": {
      "text/plain": [
       "False    545\n",
       "Name: count, dtype: int64"
      ]
     },
     "execution_count": 8,
     "metadata": {},
     "output_type": "execute_result"
    }
   ],
   "source": [
    "fec_ids[['bioguide_id']].duplicated().value_counts()"
   ]
  },
  {
   "cell_type": "code",
   "execution_count": 9,
   "id": "66b1a59c",
   "metadata": {},
   "outputs": [
    {
     "data": {
      "text/plain": [
       "Index(['bioname', 'chamber', 'left_right_ideology', 'party_code',\n",
       "       'state_abbrev', 'district_code', 'icpsr', 'bioguide_id', 'party'],\n",
       "      dtype='object')"
      ]
     },
     "execution_count": 9,
     "metadata": {},
     "output_type": "execute_result"
    }
   ],
   "source": [
    "ideology.columns"
   ]
  },
  {
   "cell_type": "code",
   "execution_count": 10,
   "id": "1c6a1650",
   "metadata": {},
   "outputs": [
    {
     "data": {
      "text/plain": [
       "False    545\n",
       "Name: count, dtype: int64"
      ]
     },
     "execution_count": 10,
     "metadata": {},
     "output_type": "execute_result"
    }
   ],
   "source": [
    "ideology[['bioguide_id']].duplicated().value_counts()"
   ]
  },
  {
   "cell_type": "code",
   "execution_count": 11,
   "id": "6b187ceb",
   "metadata": {},
   "outputs": [
    {
     "data": {
      "text/plain": [
       "Index(['introducedDate', 'type', 'url', 'number', 'title', 'bioguide_id'], dtype='object')"
      ]
     },
     "execution_count": 11,
     "metadata": {},
     "output_type": "execute_result"
    }
   ],
   "source": [
    "sponsored_legislation.columns"
   ]
  },
  {
   "cell_type": "code",
   "execution_count": 12,
   "id": "c34a16cb",
   "metadata": {},
   "outputs": [
    {
     "data": {
      "text/plain": [
       "False    14379\n",
       "Name: count, dtype: int64"
      ]
     },
     "execution_count": 12,
     "metadata": {},
     "output_type": "execute_result"
    }
   ],
   "source": [
    "sponsored_legislation[['url']].duplicated().value_counts()"
   ]
  },
  {
   "cell_type": "code",
   "execution_count": 13,
   "id": "15d68ff2",
   "metadata": {},
   "outputs": [
    {
     "data": {
      "text/plain": [
       "Index(['bioguide_id', 'chamber', 'congress', 'stateCode', 'startYear',\n",
       "       'endYear', 'district'],\n",
       "      dtype='object')"
      ]
     },
     "execution_count": 13,
     "metadata": {},
     "output_type": "execute_result"
    }
   ],
   "source": [
    "terms.columns"
   ]
  },
  {
   "cell_type": "code",
   "execution_count": 14,
   "id": "f02aa1f0",
   "metadata": {},
   "outputs": [
    {
     "data": {
      "text/plain": [
       "False    3257\n",
       "Name: count, dtype: int64"
      ]
     },
     "execution_count": 14,
     "metadata": {},
     "output_type": "execute_result"
    }
   ],
   "source": [
    "terms[['bioguide_id', 'chamber', 'congress']].duplicated().value_counts()"
   ]
  },
  {
   "cell_type": "code",
   "execution_count": 15,
   "id": "bf1d5868",
   "metadata": {},
   "outputs": [
    {
     "data": {
      "text/plain": [
       "Index(['bioname', 'comparison_member', 'agree'], dtype='object')"
      ]
     },
     "execution_count": 15,
     "metadata": {},
     "output_type": "execute_result"
    }
   ],
   "source": [
    "vote_compare.columns"
   ]
  },
  {
   "cell_type": "code",
   "execution_count": 16,
   "id": "f089731e",
   "metadata": {},
   "outputs": [
    {
     "data": {
      "text/plain": [
       "False    206040\n",
       "Name: count, dtype: int64"
      ]
     },
     "execution_count": 16,
     "metadata": {},
     "output_type": "execute_result"
    }
   ],
   "source": [
    "vote_compare[['bioname', 'comparison_member']].duplicated().value_counts()"
   ]
  },
  {
   "cell_type": "code",
   "execution_count": 17,
   "id": "a79df995",
   "metadata": {},
   "outputs": [
    {
     "data": {
      "text/plain": [
       "Index(['contributor_name', 'contributor_aggregate_ytd', 'memo_text', 'pdf_url',\n",
       "       'fec_committee_id', 'fec_id'],\n",
       "      dtype='object')"
      ]
     },
     "execution_count": 17,
     "metadata": {},
     "output_type": "execute_result"
    }
   ],
   "source": [
    "contrib.columns"
   ]
  },
  {
   "cell_type": "code",
   "execution_count": 18,
   "id": "817f9d40",
   "metadata": {},
   "outputs": [
    {
     "data": {
      "text/plain": [
       "True     431028\n",
       "False    217665\n",
       "Name: count, dtype: int64"
      ]
     },
     "execution_count": 18,
     "metadata": {},
     "output_type": "execute_result"
    }
   ],
   "source": [
    "contrib[['pdf_url']].duplicated().value_counts()"
   ]
  },
  {
   "cell_type": "code",
   "execution_count": 19,
   "id": "50f86328",
   "metadata": {},
   "outputs": [
    {
     "data": {
      "text/plain": [
       "'http://docquery.fec.gov/cgi-bin/fecimg/?10930084691'"
      ]
     },
     "execution_count": 19,
     "metadata": {},
     "output_type": "execute_result"
    }
   ],
   "source": [
    "contrib.loc[contrib.duplicated('pdf_url', keep=False)].sort_values('pdf_url').head(10)['pdf_url'][600174]"
   ]
  },
  {
   "cell_type": "code",
   "execution_count": 20,
   "id": "58e21911",
   "metadata": {},
   "outputs": [],
   "source": [
    "contrib = contrib.drop_duplicates()"
   ]
  },
  {
   "cell_type": "code",
   "execution_count": 21,
   "id": "b410f29c",
   "metadata": {},
   "outputs": [
    {
     "data": {
      "text/plain": [
       "True     378715\n",
       "False    217665\n",
       "Name: count, dtype: int64"
      ]
     },
     "execution_count": 21,
     "metadata": {},
     "output_type": "execute_result"
    }
   ],
   "source": [
    "contrib[['pdf_url']].duplicated().value_counts()"
   ]
  },
  {
   "cell_type": "markdown",
   "id": "595a1404",
   "metadata": {},
   "source": [
    "2. Do any of the tables need to become multiple tables, or combined into one table? \n",
    "\n",
    "Should be combined into one table (share the same primary key):bioinfo, fec_ids, ideology."
   ]
  },
  {
   "cell_type": "code",
   "execution_count": 22,
   "id": "c774a337",
   "metadata": {},
   "outputs": [],
   "source": [
    "members = pd.merge(bioinfo, fec_ids,\n",
    "                   on = 'bioguide_id',\n",
    "                   how = 'outer',\n",
    "                   validate = 'one_to_one',\n",
    "                   indicator = 'matched')"
   ]
  },
  {
   "cell_type": "code",
   "execution_count": 23,
   "id": "e4ce217a",
   "metadata": {},
   "outputs": [
    {
     "data": {
      "text/plain": [
       "matched\n",
       "both          545\n",
       "left_only       0\n",
       "right_only      0\n",
       "Name: count, dtype: int64"
      ]
     },
     "execution_count": 23,
     "metadata": {},
     "output_type": "execute_result"
    }
   ],
   "source": [
    "\n",
    "members['matched'].value_counts()"
   ]
  },
  {
   "cell_type": "code",
   "execution_count": 24,
   "id": "06dfef34",
   "metadata": {},
   "outputs": [],
   "source": [
    "members = members.drop('matched', axis=1)\n"
   ]
  },
  {
   "cell_type": "code",
   "execution_count": 25,
   "id": "efdc3311",
   "metadata": {},
   "outputs": [],
   "source": [
    "members = pd.merge(members, ideology,\n",
    "                   on = 'bioguide_id',\n",
    "                   how = 'outer',\n",
    "                   validate = 'one_to_one',\n",
    "                   indicator = 'matched')"
   ]
  },
  {
   "cell_type": "code",
   "execution_count": 26,
   "id": "b38445c0",
   "metadata": {},
   "outputs": [
    {
     "data": {
      "text/plain": [
       "matched\n",
       "both          545\n",
       "left_only       0\n",
       "right_only      0\n",
       "Name: count, dtype: int64"
      ]
     },
     "execution_count": 26,
     "metadata": {},
     "output_type": "execute_result"
    }
   ],
   "source": [
    "members['matched'].value_counts()"
   ]
  },
  {
   "cell_type": "code",
   "execution_count": 27,
   "id": "984acc3c",
   "metadata": {},
   "outputs": [],
   "source": [
    "members = members.drop('matched', axis=1)"
   ]
  },
  {
   "cell_type": "code",
   "execution_count": 28,
   "id": "076f5790",
   "metadata": {},
   "outputs": [
    {
     "data": {
      "text/plain": [
       "Index(['bioguide_id', 'Full name', 'Chamber', 'State', 'Party', 'District',\n",
       "       'birthYear', 'image', 'Office address', 'Phone', 'Website', 'fec_id',\n",
       "       'bioname', 'chamber', 'left_right_ideology', 'party_code',\n",
       "       'state_abbrev', 'district_code', 'icpsr', 'party'],\n",
       "      dtype='object')"
      ]
     },
     "execution_count": 28,
     "metadata": {},
     "output_type": "execute_result"
    }
   ],
   "source": [
    "members.columns\n"
   ]
  },
  {
   "cell_type": "code",
   "execution_count": 29,
   "id": "a18f8187",
   "metadata": {},
   "outputs": [
    {
     "data": {
      "text/html": [
       "<div>\n",
       "<style scoped>\n",
       "    .dataframe tbody tr th:only-of-type {\n",
       "        vertical-align: middle;\n",
       "    }\n",
       "\n",
       "    .dataframe tbody tr th {\n",
       "        vertical-align: top;\n",
       "    }\n",
       "\n",
       "    .dataframe thead th {\n",
       "        text-align: right;\n",
       "    }\n",
       "</style>\n",
       "<table border=\"1\" class=\"dataframe\">\n",
       "  <thead>\n",
       "    <tr style=\"text-align: right;\">\n",
       "      <th></th>\n",
       "      <th>0</th>\n",
       "      <th>1</th>\n",
       "      <th>2</th>\n",
       "    </tr>\n",
       "  </thead>\n",
       "  <tbody>\n",
       "    <tr>\n",
       "      <th>bioguide_id</th>\n",
       "      <td>A000055</td>\n",
       "      <td>A000148</td>\n",
       "      <td>A000369</td>\n",
       "    </tr>\n",
       "    <tr>\n",
       "      <th>Full name</th>\n",
       "      <td>Robert B. Aderholt</td>\n",
       "      <td>Jake Auchincloss</td>\n",
       "      <td>Mark E. Amodei</td>\n",
       "    </tr>\n",
       "    <tr>\n",
       "      <th>Chamber</th>\n",
       "      <td>House of Representatives</td>\n",
       "      <td>House of Representatives</td>\n",
       "      <td>House of Representatives</td>\n",
       "    </tr>\n",
       "    <tr>\n",
       "      <th>State</th>\n",
       "      <td>Alabama</td>\n",
       "      <td>Massachusetts</td>\n",
       "      <td>Nevada</td>\n",
       "    </tr>\n",
       "    <tr>\n",
       "      <th>Party</th>\n",
       "      <td>Republican</td>\n",
       "      <td>Democratic</td>\n",
       "      <td>Republican</td>\n",
       "    </tr>\n",
       "    <tr>\n",
       "      <th>District</th>\n",
       "      <td>4.0</td>\n",
       "      <td>4.0</td>\n",
       "      <td>2.0</td>\n",
       "    </tr>\n",
       "    <tr>\n",
       "      <th>birthYear</th>\n",
       "      <td>1965.0</td>\n",
       "      <td>1988.0</td>\n",
       "      <td>1958.0</td>\n",
       "    </tr>\n",
       "    <tr>\n",
       "      <th>image</th>\n",
       "      <td>https://www.congress.gov/img/member/a000055_20...</td>\n",
       "      <td>https://www.congress.gov/img/member/67817e391f...</td>\n",
       "      <td>https://www.congress.gov/img/member/a000369_20...</td>\n",
       "    </tr>\n",
       "    <tr>\n",
       "      <th>Office address</th>\n",
       "      <td>272 Cannon House Office Building, Washington, ...</td>\n",
       "      <td>1524 Longworth House Office Building, Washingt...</td>\n",
       "      <td>104 Cannon House Office Building, Washington, ...</td>\n",
       "    </tr>\n",
       "    <tr>\n",
       "      <th>Phone</th>\n",
       "      <td>(202) 225-4876</td>\n",
       "      <td>(202) 225-5931</td>\n",
       "      <td>(202) 225-6155</td>\n",
       "    </tr>\n",
       "    <tr>\n",
       "      <th>Website</th>\n",
       "      <td>https://aderholt.house.gov/</td>\n",
       "      <td>https://auchincloss.house.gov</td>\n",
       "      <td>https://amodei.house.gov</td>\n",
       "    </tr>\n",
       "    <tr>\n",
       "      <th>fec_id</th>\n",
       "      <td>H6AL04098</td>\n",
       "      <td>H0MA04192</td>\n",
       "      <td>H2NV02395</td>\n",
       "    </tr>\n",
       "    <tr>\n",
       "      <th>bioname</th>\n",
       "      <td>ADERHOLT, Robert</td>\n",
       "      <td>AUCHINCLOSS, Jake</td>\n",
       "      <td>AMODEI, Mark E.</td>\n",
       "    </tr>\n",
       "    <tr>\n",
       "      <th>chamber</th>\n",
       "      <td>House</td>\n",
       "      <td>House</td>\n",
       "      <td>House</td>\n",
       "    </tr>\n",
       "    <tr>\n",
       "      <th>left_right_ideology</th>\n",
       "      <td>0.405</td>\n",
       "      <td>-0.288</td>\n",
       "      <td>0.384</td>\n",
       "    </tr>\n",
       "    <tr>\n",
       "      <th>party_code</th>\n",
       "      <td>200</td>\n",
       "      <td>100</td>\n",
       "      <td>200</td>\n",
       "    </tr>\n",
       "    <tr>\n",
       "      <th>state_abbrev</th>\n",
       "      <td>AL</td>\n",
       "      <td>MA</td>\n",
       "      <td>NV</td>\n",
       "    </tr>\n",
       "    <tr>\n",
       "      <th>district_code</th>\n",
       "      <td>4</td>\n",
       "      <td>4</td>\n",
       "      <td>2</td>\n",
       "    </tr>\n",
       "    <tr>\n",
       "      <th>icpsr</th>\n",
       "      <td>29701</td>\n",
       "      <td>22100</td>\n",
       "      <td>21196</td>\n",
       "    </tr>\n",
       "    <tr>\n",
       "      <th>party</th>\n",
       "      <td>Republican</td>\n",
       "      <td>Democrat</td>\n",
       "      <td>Republican</td>\n",
       "    </tr>\n",
       "  </tbody>\n",
       "</table>\n",
       "</div>"
      ],
      "text/plain": [
       "                                                                     0  \\\n",
       "bioguide_id                                                    A000055   \n",
       "Full name                                           Robert B. Aderholt   \n",
       "Chamber                                       House of Representatives   \n",
       "State                                                          Alabama   \n",
       "Party                                                       Republican   \n",
       "District                                                           4.0   \n",
       "birthYear                                                       1965.0   \n",
       "image                https://www.congress.gov/img/member/a000055_20...   \n",
       "Office address       272 Cannon House Office Building, Washington, ...   \n",
       "Phone                                                   (202) 225-4876   \n",
       "Website                                    https://aderholt.house.gov/   \n",
       "fec_id                                                       H6AL04098   \n",
       "bioname                                               ADERHOLT, Robert   \n",
       "chamber                                                          House   \n",
       "left_right_ideology                                              0.405   \n",
       "party_code                                                         200   \n",
       "state_abbrev                                                        AL   \n",
       "district_code                                                        4   \n",
       "icpsr                                                            29701   \n",
       "party                                                       Republican   \n",
       "\n",
       "                                                                     1  \\\n",
       "bioguide_id                                                    A000148   \n",
       "Full name                                             Jake Auchincloss   \n",
       "Chamber                                       House of Representatives   \n",
       "State                                                    Massachusetts   \n",
       "Party                                                       Democratic   \n",
       "District                                                           4.0   \n",
       "birthYear                                                       1988.0   \n",
       "image                https://www.congress.gov/img/member/67817e391f...   \n",
       "Office address       1524 Longworth House Office Building, Washingt...   \n",
       "Phone                                                   (202) 225-5931   \n",
       "Website                                  https://auchincloss.house.gov   \n",
       "fec_id                                                       H0MA04192   \n",
       "bioname                                              AUCHINCLOSS, Jake   \n",
       "chamber                                                          House   \n",
       "left_right_ideology                                             -0.288   \n",
       "party_code                                                         100   \n",
       "state_abbrev                                                        MA   \n",
       "district_code                                                        4   \n",
       "icpsr                                                            22100   \n",
       "party                                                         Democrat   \n",
       "\n",
       "                                                                     2  \n",
       "bioguide_id                                                    A000369  \n",
       "Full name                                               Mark E. Amodei  \n",
       "Chamber                                       House of Representatives  \n",
       "State                                                           Nevada  \n",
       "Party                                                       Republican  \n",
       "District                                                           2.0  \n",
       "birthYear                                                       1958.0  \n",
       "image                https://www.congress.gov/img/member/a000369_20...  \n",
       "Office address       104 Cannon House Office Building, Washington, ...  \n",
       "Phone                                                   (202) 225-6155  \n",
       "Website                                       https://amodei.house.gov  \n",
       "fec_id                                                       H2NV02395  \n",
       "bioname                                                AMODEI, Mark E.  \n",
       "chamber                                                          House  \n",
       "left_right_ideology                                              0.384  \n",
       "party_code                                                         200  \n",
       "state_abbrev                                                        NV  \n",
       "district_code                                                        2  \n",
       "icpsr                                                            21196  \n",
       "party                                                       Republican  "
      ]
     },
     "execution_count": 29,
     "metadata": {},
     "output_type": "execute_result"
    }
   ],
   "source": [
    "members.head(3).T"
   ]
  },
  {
   "cell_type": "code",
   "execution_count": 30,
   "id": "b2604fd3",
   "metadata": {},
   "outputs": [],
   "source": [
    "members = members.drop(['Chamber', 'Party', 'District', 'State'], axis=1)"
   ]
  },
  {
   "cell_type": "code",
   "execution_count": 31,
   "id": "7692795b",
   "metadata": {},
   "outputs": [],
   "source": [
    "members.columns = [c.lower().replace(' ', '_') for c in members.columns]"
   ]
  },
  {
   "cell_type": "code",
   "execution_count": 32,
   "id": "e5aef4eb",
   "metadata": {},
   "outputs": [
    {
     "data": {
      "text/html": [
       "<div>\n",
       "<style scoped>\n",
       "    .dataframe tbody tr th:only-of-type {\n",
       "        vertical-align: middle;\n",
       "    }\n",
       "\n",
       "    .dataframe tbody tr th {\n",
       "        vertical-align: top;\n",
       "    }\n",
       "\n",
       "    .dataframe thead th {\n",
       "        text-align: right;\n",
       "    }\n",
       "</style>\n",
       "<table border=\"1\" class=\"dataframe\">\n",
       "  <thead>\n",
       "    <tr style=\"text-align: right;\">\n",
       "      <th></th>\n",
       "      <th>0</th>\n",
       "      <th>1</th>\n",
       "      <th>2</th>\n",
       "    </tr>\n",
       "  </thead>\n",
       "  <tbody>\n",
       "    <tr>\n",
       "      <th>bioguide_id</th>\n",
       "      <td>A000055</td>\n",
       "      <td>A000148</td>\n",
       "      <td>A000369</td>\n",
       "    </tr>\n",
       "    <tr>\n",
       "      <th>full_name</th>\n",
       "      <td>Robert B. Aderholt</td>\n",
       "      <td>Jake Auchincloss</td>\n",
       "      <td>Mark E. Amodei</td>\n",
       "    </tr>\n",
       "    <tr>\n",
       "      <th>birthyear</th>\n",
       "      <td>1965.0</td>\n",
       "      <td>1988.0</td>\n",
       "      <td>1958.0</td>\n",
       "    </tr>\n",
       "    <tr>\n",
       "      <th>image</th>\n",
       "      <td>https://www.congress.gov/img/member/a000055_20...</td>\n",
       "      <td>https://www.congress.gov/img/member/67817e391f...</td>\n",
       "      <td>https://www.congress.gov/img/member/a000369_20...</td>\n",
       "    </tr>\n",
       "    <tr>\n",
       "      <th>office_address</th>\n",
       "      <td>272 Cannon House Office Building, Washington, ...</td>\n",
       "      <td>1524 Longworth House Office Building, Washingt...</td>\n",
       "      <td>104 Cannon House Office Building, Washington, ...</td>\n",
       "    </tr>\n",
       "    <tr>\n",
       "      <th>phone</th>\n",
       "      <td>(202) 225-4876</td>\n",
       "      <td>(202) 225-5931</td>\n",
       "      <td>(202) 225-6155</td>\n",
       "    </tr>\n",
       "    <tr>\n",
       "      <th>website</th>\n",
       "      <td>https://aderholt.house.gov/</td>\n",
       "      <td>https://auchincloss.house.gov</td>\n",
       "      <td>https://amodei.house.gov</td>\n",
       "    </tr>\n",
       "    <tr>\n",
       "      <th>fec_id</th>\n",
       "      <td>H6AL04098</td>\n",
       "      <td>H0MA04192</td>\n",
       "      <td>H2NV02395</td>\n",
       "    </tr>\n",
       "    <tr>\n",
       "      <th>bioname</th>\n",
       "      <td>ADERHOLT, Robert</td>\n",
       "      <td>AUCHINCLOSS, Jake</td>\n",
       "      <td>AMODEI, Mark E.</td>\n",
       "    </tr>\n",
       "    <tr>\n",
       "      <th>chamber</th>\n",
       "      <td>House</td>\n",
       "      <td>House</td>\n",
       "      <td>House</td>\n",
       "    </tr>\n",
       "    <tr>\n",
       "      <th>left_right_ideology</th>\n",
       "      <td>0.405</td>\n",
       "      <td>-0.288</td>\n",
       "      <td>0.384</td>\n",
       "    </tr>\n",
       "    <tr>\n",
       "      <th>party_code</th>\n",
       "      <td>200</td>\n",
       "      <td>100</td>\n",
       "      <td>200</td>\n",
       "    </tr>\n",
       "    <tr>\n",
       "      <th>state_abbrev</th>\n",
       "      <td>AL</td>\n",
       "      <td>MA</td>\n",
       "      <td>NV</td>\n",
       "    </tr>\n",
       "    <tr>\n",
       "      <th>district_code</th>\n",
       "      <td>4</td>\n",
       "      <td>4</td>\n",
       "      <td>2</td>\n",
       "    </tr>\n",
       "    <tr>\n",
       "      <th>icpsr</th>\n",
       "      <td>29701</td>\n",
       "      <td>22100</td>\n",
       "      <td>21196</td>\n",
       "    </tr>\n",
       "    <tr>\n",
       "      <th>party</th>\n",
       "      <td>Republican</td>\n",
       "      <td>Democrat</td>\n",
       "      <td>Republican</td>\n",
       "    </tr>\n",
       "  </tbody>\n",
       "</table>\n",
       "</div>"
      ],
      "text/plain": [
       "                                                                     0  \\\n",
       "bioguide_id                                                    A000055   \n",
       "full_name                                           Robert B. Aderholt   \n",
       "birthyear                                                       1965.0   \n",
       "image                https://www.congress.gov/img/member/a000055_20...   \n",
       "office_address       272 Cannon House Office Building, Washington, ...   \n",
       "phone                                                   (202) 225-4876   \n",
       "website                                    https://aderholt.house.gov/   \n",
       "fec_id                                                       H6AL04098   \n",
       "bioname                                               ADERHOLT, Robert   \n",
       "chamber                                                          House   \n",
       "left_right_ideology                                              0.405   \n",
       "party_code                                                         200   \n",
       "state_abbrev                                                        AL   \n",
       "district_code                                                        4   \n",
       "icpsr                                                            29701   \n",
       "party                                                       Republican   \n",
       "\n",
       "                                                                     1  \\\n",
       "bioguide_id                                                    A000148   \n",
       "full_name                                             Jake Auchincloss   \n",
       "birthyear                                                       1988.0   \n",
       "image                https://www.congress.gov/img/member/67817e391f...   \n",
       "office_address       1524 Longworth House Office Building, Washingt...   \n",
       "phone                                                   (202) 225-5931   \n",
       "website                                  https://auchincloss.house.gov   \n",
       "fec_id                                                       H0MA04192   \n",
       "bioname                                              AUCHINCLOSS, Jake   \n",
       "chamber                                                          House   \n",
       "left_right_ideology                                             -0.288   \n",
       "party_code                                                         100   \n",
       "state_abbrev                                                        MA   \n",
       "district_code                                                        4   \n",
       "icpsr                                                            22100   \n",
       "party                                                         Democrat   \n",
       "\n",
       "                                                                     2  \n",
       "bioguide_id                                                    A000369  \n",
       "full_name                                               Mark E. Amodei  \n",
       "birthyear                                                       1958.0  \n",
       "image                https://www.congress.gov/img/member/a000369_20...  \n",
       "office_address       104 Cannon House Office Building, Washington, ...  \n",
       "phone                                                   (202) 225-6155  \n",
       "website                                       https://amodei.house.gov  \n",
       "fec_id                                                       H2NV02395  \n",
       "bioname                                                AMODEI, Mark E.  \n",
       "chamber                                                          House  \n",
       "left_right_ideology                                              0.384  \n",
       "party_code                                                         200  \n",
       "state_abbrev                                                        NV  \n",
       "district_code                                                        2  \n",
       "icpsr                                                            21196  \n",
       "party                                                       Republican  "
      ]
     },
     "execution_count": 32,
     "metadata": {},
     "output_type": "execute_result"
    }
   ],
   "source": [
    "members.head(3).T"
   ]
  },
  {
   "cell_type": "code",
   "execution_count": 33,
   "id": "5bc7d527",
   "metadata": {},
   "outputs": [],
   "source": [
    "members.to_csv('../data/thirdNF/members.csv', index=False)"
   ]
  },
  {
   "cell_type": "code",
   "execution_count": 34,
   "id": "9df9fcd0",
   "metadata": {},
   "outputs": [
    {
     "data": {
      "text/html": [
       "<div>\n",
       "<style scoped>\n",
       "    .dataframe tbody tr th:only-of-type {\n",
       "        vertical-align: middle;\n",
       "    }\n",
       "\n",
       "    .dataframe tbody tr th {\n",
       "        vertical-align: top;\n",
       "    }\n",
       "\n",
       "    .dataframe thead th {\n",
       "        text-align: right;\n",
       "    }\n",
       "</style>\n",
       "<table border=\"1\" class=\"dataframe\">\n",
       "  <thead>\n",
       "    <tr style=\"text-align: right;\">\n",
       "      <th></th>\n",
       "      <th>0</th>\n",
       "      <th>1</th>\n",
       "      <th>2</th>\n",
       "    </tr>\n",
       "  </thead>\n",
       "  <tbody>\n",
       "    <tr>\n",
       "      <th>actionDate</th>\n",
       "      <td>2025-10-15</td>\n",
       "      <td>2025-10-08</td>\n",
       "      <td>2025-10-08</td>\n",
       "    </tr>\n",
       "    <tr>\n",
       "      <th>actionDesc</th>\n",
       "      <td>Introduced in Senate</td>\n",
       "      <td>Introduced in House</td>\n",
       "      <td>Introduced in House</td>\n",
       "    </tr>\n",
       "    <tr>\n",
       "      <th>currentChamber</th>\n",
       "      <td>Senate</td>\n",
       "      <td>House</td>\n",
       "      <td>House</td>\n",
       "    </tr>\n",
       "    <tr>\n",
       "      <th>currentChamberCode</th>\n",
       "      <td>S</td>\n",
       "      <td>H</td>\n",
       "      <td>H</td>\n",
       "    </tr>\n",
       "    <tr>\n",
       "      <th>lastSummaryUpdateDate</th>\n",
       "      <td>2025-10-20T19:23:02Z</td>\n",
       "      <td>2025-10-20T14:56:29Z</td>\n",
       "      <td>2025-10-20T14:06:32Z</td>\n",
       "    </tr>\n",
       "    <tr>\n",
       "      <th>text</th>\n",
       "      <td>&lt;p&gt;&lt;strong&gt;Shutdown Fairness Act&lt;/strong&gt;&lt;/p&gt;&lt;...</td>\n",
       "      <td>&lt;p&gt;&lt;strong&gt;Federal Worker Childcare Protection...</td>\n",
       "      <td>&lt;p&gt;This bill requires the federal government t...</td>\n",
       "    </tr>\n",
       "    <tr>\n",
       "      <th>updateDate</th>\n",
       "      <td>2025-10-20T19:23:15Z</td>\n",
       "      <td>2025-10-20T14:56:58Z</td>\n",
       "      <td>2025-10-20T14:07:00Z</td>\n",
       "    </tr>\n",
       "    <tr>\n",
       "      <th>versionCode</th>\n",
       "      <td>0</td>\n",
       "      <td>0</td>\n",
       "      <td>0</td>\n",
       "    </tr>\n",
       "    <tr>\n",
       "      <th>bill.congress</th>\n",
       "      <td>119</td>\n",
       "      <td>119</td>\n",
       "      <td>119</td>\n",
       "    </tr>\n",
       "    <tr>\n",
       "      <th>bill.number</th>\n",
       "      <td>3012</td>\n",
       "      <td>5720</td>\n",
       "      <td>5705</td>\n",
       "    </tr>\n",
       "    <tr>\n",
       "      <th>bill.originChamber</th>\n",
       "      <td>Senate</td>\n",
       "      <td>House</td>\n",
       "      <td>House</td>\n",
       "    </tr>\n",
       "    <tr>\n",
       "      <th>bill.originChamberCode</th>\n",
       "      <td>S</td>\n",
       "      <td>H</td>\n",
       "      <td>H</td>\n",
       "    </tr>\n",
       "    <tr>\n",
       "      <th>bill.title</th>\n",
       "      <td>Shutdown Fairness Act</td>\n",
       "      <td>Federal Worker Childcare Protection Act of 2025</td>\n",
       "      <td>To authorize the reimbursement by the Federal ...</td>\n",
       "    </tr>\n",
       "    <tr>\n",
       "      <th>bill.type</th>\n",
       "      <td>S</td>\n",
       "      <td>HR</td>\n",
       "      <td>HR</td>\n",
       "    </tr>\n",
       "    <tr>\n",
       "      <th>bill.updateDateIncludingText</th>\n",
       "      <td>2025-10-21</td>\n",
       "      <td>2025-10-20</td>\n",
       "      <td>2025-10-20</td>\n",
       "    </tr>\n",
       "    <tr>\n",
       "      <th>bill.url</th>\n",
       "      <td>https://api.congress.gov/v3/bill/119/s/3012?fo...</td>\n",
       "      <td>https://api.congress.gov/v3/bill/119/hr/5720?f...</td>\n",
       "      <td>https://api.congress.gov/v3/bill/119/hr/5705?f...</td>\n",
       "    </tr>\n",
       "  </tbody>\n",
       "</table>\n",
       "</div>"
      ],
      "text/plain": [
       "                                                                              0  \\\n",
       "actionDate                                                           2025-10-15   \n",
       "actionDesc                                                 Introduced in Senate   \n",
       "currentChamber                                                           Senate   \n",
       "currentChamberCode                                                            S   \n",
       "lastSummaryUpdateDate                                      2025-10-20T19:23:02Z   \n",
       "text                          <p><strong>Shutdown Fairness Act</strong></p><...   \n",
       "updateDate                                                 2025-10-20T19:23:15Z   \n",
       "versionCode                                                                   0   \n",
       "bill.congress                                                               119   \n",
       "bill.number                                                                3012   \n",
       "bill.originChamber                                                       Senate   \n",
       "bill.originChamberCode                                                        S   \n",
       "bill.title                                                Shutdown Fairness Act   \n",
       "bill.type                                                                     S   \n",
       "bill.updateDateIncludingText                                         2025-10-21   \n",
       "bill.url                      https://api.congress.gov/v3/bill/119/s/3012?fo...   \n",
       "\n",
       "                                                                              1  \\\n",
       "actionDate                                                           2025-10-08   \n",
       "actionDesc                                                  Introduced in House   \n",
       "currentChamber                                                            House   \n",
       "currentChamberCode                                                            H   \n",
       "lastSummaryUpdateDate                                      2025-10-20T14:56:29Z   \n",
       "text                          <p><strong>Federal Worker Childcare Protection...   \n",
       "updateDate                                                 2025-10-20T14:56:58Z   \n",
       "versionCode                                                                   0   \n",
       "bill.congress                                                               119   \n",
       "bill.number                                                                5720   \n",
       "bill.originChamber                                                        House   \n",
       "bill.originChamberCode                                                        H   \n",
       "bill.title                      Federal Worker Childcare Protection Act of 2025   \n",
       "bill.type                                                                    HR   \n",
       "bill.updateDateIncludingText                                         2025-10-20   \n",
       "bill.url                      https://api.congress.gov/v3/bill/119/hr/5720?f...   \n",
       "\n",
       "                                                                              2  \n",
       "actionDate                                                           2025-10-08  \n",
       "actionDesc                                                  Introduced in House  \n",
       "currentChamber                                                            House  \n",
       "currentChamberCode                                                            H  \n",
       "lastSummaryUpdateDate                                      2025-10-20T14:06:32Z  \n",
       "text                          <p>This bill requires the federal government t...  \n",
       "updateDate                                                 2025-10-20T14:07:00Z  \n",
       "versionCode                                                                   0  \n",
       "bill.congress                                                               119  \n",
       "bill.number                                                                5705  \n",
       "bill.originChamber                                                        House  \n",
       "bill.originChamberCode                                                        H  \n",
       "bill.title                    To authorize the reimbursement by the Federal ...  \n",
       "bill.type                                                                    HR  \n",
       "bill.updateDateIncludingText                                         2025-10-20  \n",
       "bill.url                      https://api.congress.gov/v3/bill/119/hr/5705?f...  "
      ]
     },
     "execution_count": 34,
     "metadata": {},
     "output_type": "execute_result"
    }
   ],
   "source": [
    "bill_summaries.head(3).T"
   ]
  },
  {
   "cell_type": "code",
   "execution_count": 35,
   "id": "23db87de",
   "metadata": {},
   "outputs": [
    {
     "name": "stdout",
     "output_type": "stream",
     "text": [
      "actionDate\n",
      "False\n",
      "actionDesc\n",
      "False\n",
      "currentChamber\n",
      "False\n",
      "currentChamberCode\n",
      "False\n",
      "lastSummaryUpdateDate\n",
      "False\n",
      "text\n",
      "False\n",
      "updateDate\n",
      "False\n",
      "versionCode\n",
      "False\n",
      "bill.congress\n",
      "True\n",
      "bill.number\n",
      "True\n",
      "bill.originChamber\n",
      "True\n",
      "bill.originChamberCode\n",
      "True\n",
      "bill.title\n",
      "True\n",
      "bill.type\n",
      "True\n",
      "bill.updateDateIncludingText\n",
      "True\n",
      "bill.url\n",
      "True\n"
     ]
    }
   ],
   "source": [
    "for c in bill_summaries.columns:\n",
    "        print(c)\n",
    "        d = bill_summaries.groupby(['bill.type', 'bill.number']).agg({c: 'nunique'})\n",
    "        print(np.mean(d[c]) == 1)"
   ]
  },
  {
   "cell_type": "code",
   "execution_count": 36,
   "id": "2b5a9877",
   "metadata": {},
   "outputs": [],
   "source": [
    "bills = bill_summaries[['bill.type', 'bill.number', 'bill.congress', 'bill.originChamber', \n",
    "                       'bill.originChamberCode', 'bill.title', 'bill.updateDateIncludingText',\n",
    "                       'bill.url']].drop_duplicates()\n",
    "bills.columns = [c.lower().replace('.', '_') for c in bills.columns]\n",
    "bills.to_csv('../data/thirdNF/bills.csv')"
   ]
  },
  {
   "cell_type": "code",
   "execution_count": 37,
   "id": "ee993a05",
   "metadata": {},
   "outputs": [],
   "source": [
    "bill_versions = bill_summaries.drop(['bill.congress', 'bill.originChamber', \n",
    "                       'bill.originChamberCode', 'bill.title', 'bill.updateDateIncludingText',\n",
    "                       'bill.url'], axis=1)"
   ]
  },
  {
   "cell_type": "code",
   "execution_count": 38,
   "id": "f597e99e",
   "metadata": {},
   "outputs": [],
   "source": [
    "bill_versions .columns = [c.lower().replace('.', '_') for c in bill_versions.columns]\n",
    "bill_versions.to_csv('../data/thirdNF/bill_versions.csv')"
   ]
  },
  {
   "cell_type": "code",
   "execution_count": 39,
   "id": "d1691860",
   "metadata": {},
   "outputs": [
    {
     "data": {
      "text/html": [
       "<div>\n",
       "<style scoped>\n",
       "    .dataframe tbody tr th:only-of-type {\n",
       "        vertical-align: middle;\n",
       "    }\n",
       "\n",
       "    .dataframe tbody tr th {\n",
       "        vertical-align: top;\n",
       "    }\n",
       "\n",
       "    .dataframe thead th {\n",
       "        text-align: right;\n",
       "    }\n",
       "</style>\n",
       "<table border=\"1\" class=\"dataframe\">\n",
       "  <thead>\n",
       "    <tr style=\"text-align: right;\">\n",
       "      <th></th>\n",
       "      <th>0</th>\n",
       "      <th>1</th>\n",
       "      <th>2</th>\n",
       "    </tr>\n",
       "  </thead>\n",
       "  <tbody>\n",
       "    <tr>\n",
       "      <th>bioname</th>\n",
       "      <td>GRASSLEY, Charles Ernest</td>\n",
       "      <td>GRASSLEY, Charles Ernest</td>\n",
       "      <td>GRASSLEY, Charles Ernest</td>\n",
       "    </tr>\n",
       "    <tr>\n",
       "      <th>comparison_member</th>\n",
       "      <td>MARKEY, Edward John</td>\n",
       "      <td>SCHUMER, Charles Ellis (Chuck)</td>\n",
       "      <td>WYDEN, Ronald Lee</td>\n",
       "    </tr>\n",
       "    <tr>\n",
       "      <th>agree</th>\n",
       "      <td>0.021053</td>\n",
       "      <td>0.07193</td>\n",
       "      <td>0.052632</td>\n",
       "    </tr>\n",
       "  </tbody>\n",
       "</table>\n",
       "</div>"
      ],
      "text/plain": [
       "                                          0                               1  \\\n",
       "bioname            GRASSLEY, Charles Ernest        GRASSLEY, Charles Ernest   \n",
       "comparison_member       MARKEY, Edward John  SCHUMER, Charles Ellis (Chuck)   \n",
       "agree                              0.021053                         0.07193   \n",
       "\n",
       "                                          2  \n",
       "bioname            GRASSLEY, Charles Ernest  \n",
       "comparison_member         WYDEN, Ronald Lee  \n",
       "agree                              0.052632  "
      ]
     },
     "execution_count": 39,
     "metadata": {},
     "output_type": "execute_result"
    }
   ],
   "source": [
    "vote_compare.head(3).T"
   ]
  },
  {
   "cell_type": "code",
   "execution_count": 40,
   "id": "d9a0e6cf",
   "metadata": {},
   "outputs": [],
   "source": [
    "vote_compare.to_csv('../data/thirdNF/vote_compare.csv', index=False)"
   ]
  },
  {
   "cell_type": "code",
   "execution_count": null,
   "id": "21af1d3b",
   "metadata": {},
   "outputs": [],
   "source": []
  }
 ],
 "metadata": {
  "kernelspec": {
   "display_name": "ds6600",
   "language": "python",
   "name": "python3"
  },
  "language_info": {
   "codemirror_mode": {
    "name": "ipython",
    "version": 3
   },
   "file_extension": ".py",
   "mimetype": "text/x-python",
   "name": "python",
   "nbconvert_exporter": "python",
   "pygments_lexer": "ipython3",
   "version": "3.13.5"
  }
 },
 "nbformat": 4,
 "nbformat_minor": 5
}
